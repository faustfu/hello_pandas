{
 "cells": [
  {
   "cell_type": "code",
   "execution_count": 1,
   "metadata": {},
   "outputs": [],
   "source": [
    "# import numpy and pandas\n",
    "import numpy as np\n",
    "import pandas as pd\n",
    "\n",
    "# used for dates\n",
    "import datetime\n",
    "from datetime import date\n",
    "\n",
    "# Set some pandas options controlling output format\n",
    "pd.set_option('display.notebook_repr_html', False)\n",
    "pd.set_option('display.max_columns', 8)\n",
    "pd.set_option('display.max_rows', 10)\n",
    "pd.set_option('display.width', 80)\n",
    "pd.options.mode.chained_assignment = None\n",
    "\n",
    "# bring in matplotlib for graphics\n",
    "import matplotlib.pyplot as plt\n",
    "%matplotlib inline"
   ]
  },
  {
   "cell_type": "code",
   "execution_count": 12,
   "metadata": {},
   "outputs": [],
   "source": [
    "index1 = ['Max', 'Bithumb']\n",
    "index2 = [1, 2, 3]\n",
    "exchange_series = pd.Series(['Max','Max','Max', 'Max','Max','Max', 'Bithumb','Bithumb','Bithumb'])\n",
    "position_series = pd.Series([1,1,1, 2,2,2, 3,3,3])\n",
    "index3 = ['BCNT', 'USDT', 'TWD']\n",
    "currency_series = pd.Series(np.tile(index3, len(index2)))\n",
    "\n",
    "today_str = date.today().isoformat()\n",
    "current_str = datetime.datetime.today().isoformat()\n",
    "yesterday = date.today() - datetime.timedelta(days=1)\n",
    "yesterday_date_str = yesterday.isoformat()\n",
    "\n",
    "today_df = pd.DataFrame({\n",
    "    'exchange': exchange_series,\n",
    "    'position': position_series,\n",
    "    'currency': currency_series,\n",
    "    'date': np.repeat(current_str, len(index2)*len(index3)),\n",
    "    'total': np.repeat(0.0, len(index2)*len(index3)),\n",
    "    'locked': np.repeat(0.0, len(index2)*len(index3)),\n",
    "}).set_index(['exchange','position','currency'])"
   ]
  },
  {
   "cell_type": "code",
   "execution_count": 13,
   "metadata": {},
   "outputs": [],
   "source": [
    "today_df['total']['Bithumb',3,'BCNT'] = 1.0\n",
    "today_df['total']['Bithumb',3,'USDT'] = 1.0\n",
    "today_df['total']['Bithumb',3,'TWD'] = 1.0\n",
    "today_df['total']['Max',1,'BCNT'] = 1.0\n",
    "today_df['total']['Max',1,'USDT'] = 1.0\n",
    "today_df['total']['Max',1,'TWD'] = 1.0\n",
    "today_df['total']['Max',2,'BCNT'] = 1.0\n",
    "today_df['total']['Max',2,'USDT'] = 1.0\n",
    "today_df['total']['Max',2,'TWD'] = 1.0\n",
    "\n",
    "today_df['locked']['Bithumb',3,'BCNT'] = 1.0\n",
    "today_df['locked']['Bithumb',3,'USDT'] = 1.0\n",
    "today_df['locked']['Bithumb',3,'TWD'] = 1.0\n",
    "today_df['locked']['Max',1,'BCNT'] = 1.0\n",
    "today_df['locked']['Max',1,'USDT'] = 1.0\n",
    "today_df['locked']['Max',1,'TWD'] = 1.0\n",
    "today_df['locked']['Max',2,'BCNT'] = 1.0\n",
    "today_df['locked']['Max',2,'USDT'] = 1.0\n",
    "today_df['locked']['Max',2,'TWD'] = 1.0"
   ]
  },
  {
   "cell_type": "code",
   "execution_count": 14,
   "metadata": {},
   "outputs": [
    {
     "name": "stdout",
     "output_type": "stream",
     "text": [
      "[Errno 2] File record.csv does not exist: 'record.csv'\n"
     ]
    }
   ],
   "source": [
    "try:\n",
    "  record_df = pd.read_csv('record.csv').set_index(['exchange','position','currency'])\n",
    "  last_date = record_df[record_df.date < today_str].head(1).date\n",
    "  if len(last_date.values) == 0:\n",
    "    yesterday_df = today_df.copy()\n",
    "  else:\n",
    "    yesterday_df = record_df[record_df.date == last_date.values[0]][['total','locked']].copy()\n",
    "\n",
    "  # pd.concat([record_df,today_df]).to_csv('record.csv')\n",
    "except Exception as e:\n",
    "  print(e)\n",
    "  # read record file error => create new record file\n",
    "  record_df = today_df.copy()\n",
    "  yesterday_df = today_df.copy()\n",
    "\n",
    "  # record_df.to_csv('record.csv')"
   ]
  },
  {
   "cell_type": "code",
   "execution_count": 35,
   "metadata": {
    "scrolled": false
   },
   "outputs": [],
   "source": [
    "today_df = today_df[['total']]\n",
    "max_today_df = pd.DataFrame({\n",
    "    'exchange': ['Max','Max','Max'],\n",
    "    'currency': ['BCNT','USDT','TWD'],\n",
    "    'total': [\n",
    "        today_df.xs('Max').xs('BCNT', level = 1).sum().values[0],\n",
    "        today_df.xs('Max').xs('USDT', level = 1).sum().values[0],\n",
    "        today_df.xs('Max').xs('TWD', level = 1).sum().values[0]\n",
    "    ],\n",
    "}).set_index(['exchange','currency'])\n",
    "today_df = today_df.append(max_today_df)\n",
    "\n",
    "yesterday_df = yesterday_df[['total']]\n",
    "max_yesterday_df = pd.DataFrame({\n",
    "    'exchange': ['Max','Max','Max'],\n",
    "    'currency': ['BCNT','USDT','TWD'],\n",
    "    'total': [\n",
    "        yesterday_df.xs('Max').xs('BCNT', level = 1).sum().values[0],\n",
    "        yesterday_df.xs('Max').xs('USDT', level = 1).sum().values[0],\n",
    "        yesterday_df.xs('Max').xs('TWD', level = 1).sum().values[0]\n",
    "    ],\n",
    "}).set_index(['exchange','currency'])\n",
    "yesterday_df = yesterday_df.append(max_yesterday_df)"
   ]
  },
  {
   "cell_type": "code",
   "execution_count": 37,
   "metadata": {},
   "outputs": [],
   "source": [
    "diff_df = (today_df - yesterday_df)\n",
    "diff_percentage = diff_df / yesterday_df\n",
    "diff_df.columns = ['diff']\n",
    "diff_df['diff_percentage'] = diff_percentage.total\n",
    "diff_df[yesterday_date_str] = yesterday_df.total.apply(lambda x: round(x,2))\n",
    "diff_df[today_str] = today_df.total.apply(lambda x: round(x,2))\n",
    "\n",
    "diff_df['diff'] = diff_df['diff'].apply(lambda x: round(x,2))\n",
    "diff_df['diff_percentage'] = diff_df['diff_percentage'].apply(lambda x: '{diff:>3.2f}%'.format(diff=round(x * 100,2)))"
   ]
  },
  {
   "cell_type": "code",
   "execution_count": 38,
   "metadata": {
    "scrolled": true
   },
   "outputs": [
    {
     "data": {
      "text/plain": [
       "                    diff diff_percentage  2020-04-15  2020-04-16\n",
       "(Max, 1, BCNT)       0.0           0.00%         1.0         1.0\n",
       "(Max, 1, USDT)       0.0           0.00%         1.0         1.0\n",
       "(Max, 1, TWD)        0.0           0.00%         1.0         1.0\n",
       "(Max, 2, BCNT)       0.0           0.00%         1.0         1.0\n",
       "(Max, 2, USDT)       0.0           0.00%         1.0         1.0\n",
       "...                  ...             ...         ...         ...\n",
       "(Bithumb, 3, USDT)   0.0           0.00%         1.0         1.0\n",
       "(Bithumb, 3, TWD)    0.0           0.00%         1.0         1.0\n",
       "(Max, BCNT)          0.0           0.00%         2.0         2.0\n",
       "(Max, USDT)          0.0           0.00%         2.0         2.0\n",
       "(Max, TWD)           0.0           0.00%         2.0         2.0\n",
       "\n",
       "[12 rows x 4 columns]"
      ]
     },
     "execution_count": 38,
     "metadata": {},
     "output_type": "execute_result"
    }
   ],
   "source": [
    "diff_df"
   ]
  }
 ],
 "metadata": {
  "kernelspec": {
   "display_name": "Python 3",
   "language": "python",
   "name": "python3"
  },
  "language_info": {
   "codemirror_mode": {
    "name": "ipython",
    "version": 3
   },
   "file_extension": ".py",
   "mimetype": "text/x-python",
   "name": "python",
   "nbconvert_exporter": "python",
   "pygments_lexer": "ipython3",
   "version": "3.7.4"
  }
 },
 "nbformat": 4,
 "nbformat_minor": 4
}
