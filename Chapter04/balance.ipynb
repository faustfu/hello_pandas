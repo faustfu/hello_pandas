{
 "cells": [
  {
   "cell_type": "code",
   "execution_count": 213,
   "metadata": {},
   "outputs": [],
   "source": [
    "# import numpy and pandas\n",
    "import numpy as np\n",
    "import pandas as pd\n",
    "\n",
    "# used for dates\n",
    "import datetime\n",
    "from datetime import date\n",
    "\n",
    "# Set some pandas options controlling output format\n",
    "pd.set_option('display.notebook_repr_html', False)\n",
    "pd.set_option('display.max_columns', 8)\n",
    "pd.set_option('display.max_rows', 10)\n",
    "pd.set_option('display.width', 80)\n",
    "pd.options.mode.chained_assignment = None\n",
    "\n",
    "# bring in matplotlib for graphics\n",
    "import matplotlib.pyplot as plt\n",
    "%matplotlib inline"
   ]
  },
  {
   "cell_type": "code",
   "execution_count": 206,
   "metadata": {},
   "outputs": [],
   "source": [
    "index2 = ['Max 1', 'Max 2', 'Bithumb']\n",
    "position_series = pd.Series(['Max 1','Max 1','Max 1', 'Max 2','Max 2','Max 2', 'Bithumb','Bithumb','Bithumb'])\n",
    "index3 = ['BCNT', 'USDT', 'TWD']\n",
    "currency_series = pd.Series(np.tile(index3, len(index2)))\n",
    "\n",
    "today_str = date.today().isoformat()\n",
    "current_str = datetime.datetime.today().isoformat()\n",
    "yesterday = date.today() - datetime.timedelta(days=1)\n",
    "yesterday_date_str = yesterday.isoformat()\n",
    "\n",
    "today_df = pd.DataFrame({\n",
    "    'position':position_series,\n",
    "    'currency':currency_series,\n",
    "    'date': np.repeat(current_str, len(index2)*len(index3)),\n",
    "    'total': np.repeat(0.0, len(index2)*len(index3)),\n",
    "    'locked': np.repeat(0.0, len(index2)*len(index3)),\n",
    "}).set_index(['position','currency'])"
   ]
  },
  {
   "cell_type": "code",
   "execution_count": 218,
   "metadata": {},
   "outputs": [],
   "source": [
    "today_df['total']['Bithumb','BCNT'] = 1.0\n",
    "today_df['total']['Bithumb','USDT'] = 1.0\n",
    "today_df['total']['Bithumb','TWD'] = 1.0\n",
    "today_df['total']['Max 1','BCNT'] = 1.0\n",
    "today_df['total']['Max 1','USDT'] = 1.0\n",
    "today_df['total']['Max 1','TWD'] = 1.0\n",
    "today_df['total']['Max 2','BCNT'] = 1.0\n",
    "today_df['total']['Max 2','USDT'] = 1.0\n",
    "today_df['total']['Max 2','TWD'] = 1.0\n",
    "\n",
    "today_df['locked']['Bithumb','BCNT'] = 1.0\n",
    "today_df['locked']['Bithumb','USDT'] = 1.0\n",
    "today_df['locked']['Bithumb','TWD'] = 1.0\n",
    "today_df['locked']['Max 1','BCNT'] = 1.0\n",
    "today_df['locked']['Max 1','USDT'] = 1.0\n",
    "today_df['locked']['Max 1','TWD'] = 1.0\n",
    "today_df['locked']['Max 2','BCNT'] = 1.0\n",
    "today_df['locked']['Max 2','USDT'] = 1.0\n",
    "today_df['locked']['Max 2','TWD'] = 1.0"
   ]
  },
  {
   "cell_type": "code",
   "execution_count": 219,
   "metadata": {},
   "outputs": [],
   "source": [
    "try:\n",
    "  record_df = pd.read_csv('record.csv').set_index(['position','currency'])\n",
    "  last_date = record_df[record_df.date <= yesterday_date_str].head(1).date\n",
    "  yesterday_df = record_df[record_df.date == last_date.values[0]][['total','locked']].copy()\n",
    "\n",
    "  pd.concat([record_df,today_df]).to_csv('record.csv')\n",
    "except Exception as e:\n",
    "  # read record file error => create new record file\n",
    "  record_df = today_df.copy()\n",
    "  yesterday_df = today_df.copy()\n",
    "\n",
    "  record_df.to_csv('record.csv')"
   ]
  },
  {
   "cell_type": "code",
   "execution_count": 242,
   "metadata": {
    "scrolled": true
   },
   "outputs": [
    {
     "data": {
      "text/plain": [
       "                   diff  yesterday  today\n",
       "position currency                        \n",
       "Max 1    BCNT       0.0        1.0    1.0\n",
       "         USDT       0.0        1.0    1.0\n",
       "         TWD        0.0        1.0    1.0\n",
       "Max 2    BCNT       0.0        1.0    1.0\n",
       "         USDT       0.0        1.0    1.0\n",
       "         TWD        0.0        1.0    1.0\n",
       "Bithumb  BCNT       0.0        1.0    1.0\n",
       "         USDT       0.0        1.0    1.0\n",
       "         TWD        0.0        1.0    1.0"
      ]
     },
     "execution_count": 242,
     "metadata": {},
     "output_type": "execute_result"
    }
   ],
   "source": [
    "today_df = today_df[['total']]\n",
    "yesterday_df = yesterday_df[['total']]\n",
    "diff = (today_df - yesterday_df)/yesterday_df\n",
    "diff.columns = ['diff']\n",
    "diff['yesterday'] = yesterday_df.total\n",
    "diff['today'] = today_df.total\n",
    "diff"
   ]
  }
 ],
 "metadata": {
  "kernelspec": {
   "display_name": "Python 3",
   "language": "python",
   "name": "python3"
  },
  "language_info": {
   "codemirror_mode": {
    "name": "ipython",
    "version": 3
   },
   "file_extension": ".py",
   "mimetype": "text/x-python",
   "name": "python",
   "nbconvert_exporter": "python",
   "pygments_lexer": "ipython3",
   "version": "3.7.4"
  }
 },
 "nbformat": 4,
 "nbformat_minor": 4
}
