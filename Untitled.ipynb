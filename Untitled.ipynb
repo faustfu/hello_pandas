{
 "cells": [
  {
   "cell_type": "code",
   "execution_count": 1,
   "metadata": {},
   "outputs": [],
   "source": [
    "# import numpy and pandas\n",
    "import numpy as np\n",
    "import pandas as pd\n",
    "\n",
    "# used for dates\n",
    "import datetime\n",
    "from datetime import datetime, date\n",
    "\n",
    "# Set some pandas options controlling output format\n",
    "pd.set_option('display.notebook_repr_html', False)\n",
    "pd.set_option('display.max_columns', 8)\n",
    "pd.set_option('display.max_rows', 10)\n",
    "pd.set_option('display.width', 60)\n",
    "\n",
    "# bring in matplotlib for graphics\n",
    "import matplotlib.pyplot as plt\n",
    "%matplotlib inline"
   ]
  },
  {
   "cell_type": "code",
   "execution_count": 10,
   "metadata": {},
   "outputs": [],
   "source": [
    "#a = np.random.normal(0,1,100)\n",
    "#a = np.random.uniform(-5,5,100)\n",
    "a = np.random.exponential(1, 100)"
   ]
  },
  {
   "cell_type": "code",
   "execution_count": 11,
   "metadata": {},
   "outputs": [
    {
     "data": {
      "text/plain": [
       "array([ 0.40865662,  0.37073756, 25.54665504, 17.90410749,  1.38228449,\n",
       "       19.09766942,  0.44699539,  1.00829519,  1.98011909,  1.23758926,\n",
       "        1.37152906,  0.37576088,  0.92384727,  1.24122877,  1.45715731,\n",
       "        1.55493976,  4.42096539,  0.60014099, 58.82061166,  1.09129858,\n",
       "       12.18521031,  0.47857551,  4.56207214,  2.26525022,  2.1915194 ,\n",
       "        3.404408  ,  3.62888282,  0.6822258 ,  2.25123224,  0.50195001,\n",
       "        0.7299746 ,  0.80969677,  0.8296775 ,  7.85765149,  1.90821574,\n",
       "        3.59936881,  2.14549762,  1.90516191,  0.91070741,  3.93365482,\n",
       "        0.50305034,  1.19692557,  0.50349106,  0.34343833,  3.4921738 ,\n",
       "        0.24040068, 10.84626208,  0.52877648,  0.67711854,  0.19692792,\n",
       "        0.34647579,  1.38401371, 11.88378795,  1.32822184,  0.91448358,\n",
       "       12.6350625 , 11.4600759 ,  0.94829484,  0.78439697,  0.98154286,\n",
       "        2.33363207,  0.63710485,  1.76187267,  0.56802926,  2.61307407,\n",
       "        3.9888409 , 10.02679234,  0.76381089,  0.91403837,  1.06195156,\n",
       "        0.79356404,  1.40203014,  1.71439688,  1.51029986,  1.08087318,\n",
       "        1.14712069,  0.92902715,  0.28350325,  6.81637781,  2.16351938,\n",
       "        0.9523067 , 12.35767859, 11.54813526,  0.93104718,  1.42310824,\n",
       "        1.22579133,  1.284765  ,  0.65330126,  2.05205427,  0.3554779 ,\n",
       "        1.03512852,  3.85293013,  0.29826612,  0.79280292,  4.36798754,\n",
       "        1.98590995,  0.49614056,  1.78579142,  1.28027004,  1.27663922])"
      ]
     },
     "execution_count": 11,
     "metadata": {},
     "output_type": "execute_result"
    }
   ],
   "source": [
    "a"
   ]
  },
  {
   "cell_type": "code",
   "execution_count": 4,
   "metadata": {},
   "outputs": [],
   "source": [
    "b = np.linspace(-10,10,100)"
   ]
  },
  {
   "cell_type": "code",
   "execution_count": 5,
   "metadata": {},
   "outputs": [
    {
     "data": {
      "text/plain": [
       "array([-10.        ,  -9.7979798 ,  -9.5959596 ,  -9.39393939,\n",
       "        -9.19191919,  -8.98989899,  -8.78787879,  -8.58585859,\n",
       "        -8.38383838,  -8.18181818,  -7.97979798,  -7.77777778,\n",
       "        -7.57575758,  -7.37373737,  -7.17171717,  -6.96969697,\n",
       "        -6.76767677,  -6.56565657,  -6.36363636,  -6.16161616,\n",
       "        -5.95959596,  -5.75757576,  -5.55555556,  -5.35353535,\n",
       "        -5.15151515,  -4.94949495,  -4.74747475,  -4.54545455,\n",
       "        -4.34343434,  -4.14141414,  -3.93939394,  -3.73737374,\n",
       "        -3.53535354,  -3.33333333,  -3.13131313,  -2.92929293,\n",
       "        -2.72727273,  -2.52525253,  -2.32323232,  -2.12121212,\n",
       "        -1.91919192,  -1.71717172,  -1.51515152,  -1.31313131,\n",
       "        -1.11111111,  -0.90909091,  -0.70707071,  -0.50505051,\n",
       "        -0.3030303 ,  -0.1010101 ,   0.1010101 ,   0.3030303 ,\n",
       "         0.50505051,   0.70707071,   0.90909091,   1.11111111,\n",
       "         1.31313131,   1.51515152,   1.71717172,   1.91919192,\n",
       "         2.12121212,   2.32323232,   2.52525253,   2.72727273,\n",
       "         2.92929293,   3.13131313,   3.33333333,   3.53535354,\n",
       "         3.73737374,   3.93939394,   4.14141414,   4.34343434,\n",
       "         4.54545455,   4.74747475,   4.94949495,   5.15151515,\n",
       "         5.35353535,   5.55555556,   5.75757576,   5.95959596,\n",
       "         6.16161616,   6.36363636,   6.56565657,   6.76767677,\n",
       "         6.96969697,   7.17171717,   7.37373737,   7.57575758,\n",
       "         7.77777778,   7.97979798,   8.18181818,   8.38383838,\n",
       "         8.58585859,   8.78787879,   8.98989899,   9.19191919,\n",
       "         9.39393939,   9.5959596 ,   9.7979798 ,  10.        ])"
      ]
     },
     "execution_count": 5,
     "metadata": {},
     "output_type": "execute_result"
    }
   ],
   "source": [
    "b"
   ]
  },
  {
   "cell_type": "code",
   "execution_count": 12,
   "metadata": {
    "scrolled": false
   },
   "outputs": [
    {
     "data": {
      "image/png": "[encoded data removed]",
      "text/plain": [
       "<Figure size 432x288 with 1 Axes>"
      ]
     },
     "metadata": {
      "needs_background": "light"
     },
     "output_type": "display_data"
    }
   ],
   "source": [
    "plt.scatter(b,a)\n",
    "plt.xlim(-10,10)\n",
    "plt.ylim(-5,5)\n",
    "plt.show()"
   ]
  }
 ],
 "metadata": {
  "kernelspec": {
   "display_name": "Python 3",
   "language": "python",
   "name": "python3"
  },
  "language_info": {
   "codemirror_mode": {
    "name": "ipython",
    "version": 3
   },
   "file_extension": ".py",
   "mimetype": "text/x-python",
   "name": "python",
   "nbconvert_exporter": "python",
   "pygments_lexer": "ipython3",
   "version": "3.7.4"
  }
 },
 "nbformat": 4,
 "nbformat_minor": 4
}
