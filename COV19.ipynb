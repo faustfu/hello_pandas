{
 "cells": [
  {
   "cell_type": "code",
   "execution_count": 2,
   "metadata": {},
   "outputs": [],
   "source": [
    "# import numpy and pandas\n",
    "import numpy as np\n",
    "import pandas as pd\n",
    "\n",
    "# used for dates\n",
    "import datetime\n",
    "from datetime import datetime, date\n",
    "\n",
    "# Set some pandas options controlling output format\n",
    "pd.set_option('display.notebook_repr_html', False)\n",
    "pd.set_option('display.max_columns', 7)\n",
    "pd.set_option('display.max_rows', 10)\n",
    "pd.set_option('display.width', 60)\n",
    "\n",
    "# bring in matplotlib for graphics\n",
    "import matplotlib.pyplot as plt\n",
    "%matplotlib inline\n",
    "\n",
    "# read in the data and print the first five rows\n",
    "# use the Symbol column as the index, and \n",
    "# only read in columns in positions 0, 2, 3, 7\n",
    "cov19_raw = pd.read_csv(\"data/cov19.csv\", \n",
    "                    index_col=False)\n",
    "del cov19_raw['Lat']\n",
    "del cov19_raw['Long']"
   ]
  },
  {
   "cell_type": "code",
   "execution_count": 3,
   "metadata": {
    "scrolled": true
   },
   "outputs": [],
   "source": [
    "cov19 = cov19_raw.set_index(['Country/Region','Province/State'])"
   ]
  },
  {
   "cell_type": "code",
   "execution_count": 4,
   "metadata": {},
   "outputs": [
    {
     "data": {
      "text/plain": [
       "                                         1/22/20  1/23/20  \\\n",
       "Country/Region Province/State                               \n",
       "Afghanistan    NaN                             0        0   \n",
       "Albania        NaN                             0        0   \n",
       "Algeria        NaN                             0        0   \n",
       "Andorra        NaN                             0        0   \n",
       "Angola         NaN                             0        0   \n",
       "...                                          ...      ...   \n",
       "United Kingdom Turks and Caicos Islands        0        0   \n",
       "MS Zaandam     NaN                             0        0   \n",
       "Botswana       NaN                             0        0   \n",
       "Burundi        NaN                             0        0   \n",
       "Sierra Leone   NaN                             0        0   \n",
       "\n",
       "                                         1/24/20  ...  \\\n",
       "Country/Region Province/State                     ...   \n",
       "Afghanistan    NaN                             0  ...   \n",
       "Albania        NaN                             0  ...   \n",
       "Algeria        NaN                             0  ...   \n",
       "Andorra        NaN                             0  ...   \n",
       "Angola         NaN                             0  ...   \n",
       "...                                          ...  ...   \n",
       "United Kingdom Turks and Caicos Islands        0  ...   \n",
       "MS Zaandam     NaN                             0  ...   \n",
       "Botswana       NaN                             0  ...   \n",
       "Burundi        NaN                             0  ...   \n",
       "Sierra Leone   NaN                             0  ...   \n",
       "\n",
       "                                         3/30/20  3/31/20  \\\n",
       "Country/Region Province/State                               \n",
       "Afghanistan    NaN                           170      174   \n",
       "Albania        NaN                           223      243   \n",
       "Algeria        NaN                           584      716   \n",
       "Andorra        NaN                           370      376   \n",
       "Angola         NaN                             7        7   \n",
       "...                                          ...      ...   \n",
       "United Kingdom Turks and Caicos Islands        5        5   \n",
       "MS Zaandam     NaN                             2        2   \n",
       "Botswana       NaN                             3        4   \n",
       "Burundi        NaN                             0        2   \n",
       "Sierra Leone   NaN                             0        1   \n",
       "\n",
       "                                         4/1/20  \n",
       "Country/Region Province/State                    \n",
       "Afghanistan    NaN                          237  \n",
       "Albania        NaN                          259  \n",
       "Algeria        NaN                          847  \n",
       "Andorra        NaN                          390  \n",
       "Angola         NaN                            8  \n",
       "...                                         ...  \n",
       "United Kingdom Turks and Caicos Islands       6  \n",
       "MS Zaandam     NaN                            9  \n",
       "Botswana       NaN                            4  \n",
       "Burundi        NaN                            2  \n",
       "Sierra Leone   NaN                            2  \n",
       "\n",
       "[256 rows x 71 columns]"
      ]
     },
     "execution_count": 4,
     "metadata": {},
     "output_type": "execute_result"
    }
   ],
   "source": [
    "cov19"
   ]
  },
  {
   "cell_type": "code",
   "execution_count": 5,
   "metadata": {
    "scrolled": true
   },
   "outputs": [],
   "source": [
    "taiwan = cov19.xs(('Taiwan*',np.nan)).T\n",
    "us = cov19.xs(('US',np.nan)).T\n",
    "japan = cov19.xs(('Japan',np.nan)).T\n",
    "chart01 = pd.DataFrame({'Taiwan':taiwan,'Japan':japan})"
   ]
  },
  {
   "cell_type": "code",
   "execution_count": 6,
   "metadata": {
    "scrolled": false
   },
   "outputs": [
    {
     "data": {
      "text/plain": [
       "<matplotlib.axes._subplots.AxesSubplot at 0xb97bdc0>"
      ]
     },
     "execution_count": 6,
     "metadata": {},
     "output_type": "execute_result"
    },
    {
     "data": {
      "image/png": "[encoded data removed]",
      "text/plain": [
       "<Figure size 432x288 with 1 Axes>"
      ]
     },
     "metadata": {
      "needs_background": "light"
     },
     "output_type": "display_data"
    }
   ],
   "source": [
    "chart01.plot()"
   ]
  },
  {
   "cell_type": "code",
   "execution_count": 7,
   "metadata": {
    "scrolled": false
   },
   "outputs": [
    {
     "data": {
      "text/plain": [
       "<matplotlib.axes._subplots.AxesSubplot at 0xc9fbd18>"
      ]
     },
     "execution_count": 7,
     "metadata": {},
     "output_type": "execute_result"
    },
    {
     "data": {
      "image/png": "[encoded data removed]",
      "text/plain": [
       "<Figure size 432x288 with 1 Axes>"
      ]
     },
     "metadata": {
      "needs_background": "light"
     },
     "output_type": "display_data"
    }
   ],
   "source": [
    "us.plot()"
   ]
  },
  {
   "cell_type": "code",
   "execution_count": 8,
   "metadata": {
    "scrolled": true
   },
   "outputs": [
    {
     "data": {
      "text/plain": [
       "                                                   3/31/20  \\\n",
       "Country/Region                   Province/State              \n",
       "US                               NaN                188172   \n",
       "Italy                            NaN                105792   \n",
       "Spain                            NaN                 95923   \n",
       "Germany                          NaN                 71808   \n",
       "China                            Hubei               67801   \n",
       "...                                                    ...   \n",
       "Timor-Leste                      NaN                     1   \n",
       "China                            Tibet                   1   \n",
       "Saint Vincent and the Grenadines NaN                     1   \n",
       "Canada                           Diamond Princess        0   \n",
       "                                 Recovered               0   \n",
       "\n",
       "                                                   4/1/20  \\\n",
       "Country/Region                   Province/State             \n",
       "US                               NaN               213372   \n",
       "Italy                            NaN               110574   \n",
       "Spain                            NaN               104118   \n",
       "Germany                          NaN                77872   \n",
       "China                            Hubei              67802   \n",
       "...                                                   ...   \n",
       "Timor-Leste                      NaN                    1   \n",
       "China                            Tibet                  1   \n",
       "Saint Vincent and the Grenadines NaN                    1   \n",
       "Canada                           Diamond Princess       0   \n",
       "                                 Recovered              0   \n",
       "\n",
       "                                                    Diff  \\\n",
       "Country/Region                   Province/State            \n",
       "US                               NaN               25200   \n",
       "Italy                            NaN                4782   \n",
       "Spain                            NaN                8195   \n",
       "Germany                          NaN                6064   \n",
       "China                            Hubei                 1   \n",
       "...                                                  ...   \n",
       "Timor-Leste                      NaN                   0   \n",
       "China                            Tibet                 0   \n",
       "Saint Vincent and the Grenadines NaN                   0   \n",
       "Canada                           Diamond Princess      0   \n",
       "                                 Recovered             0   \n",
       "\n",
       "                                                      Ratio  \n",
       "Country/Region                   Province/State              \n",
       "US                               NaN               0.133920  \n",
       "Italy                            NaN               0.045202  \n",
       "Spain                            NaN               0.085433  \n",
       "Germany                          NaN               0.084447  \n",
       "China                            Hubei             0.000015  \n",
       "...                                                     ...  \n",
       "Timor-Leste                      NaN               0.000000  \n",
       "China                            Tibet             0.000000  \n",
       "Saint Vincent and the Grenadines NaN               0.000000  \n",
       "Canada                           Diamond Princess       NaN  \n",
       "                                 Recovered              NaN  \n",
       "\n",
       "[256 rows x 4 columns]"
      ]
     },
     "execution_count": 8,
     "metadata": {},
     "output_type": "execute_result"
    }
   ],
   "source": [
    "current = cov19.sort_values(by=['4/1/20'],ascending=False)[['3/31/20','4/1/20']]\n",
    "current['Diff'] = current['4/1/20'] - current['3/31/20']\n",
    "current['Ratio'] = current['Diff'] / current['3/31/20']\n",
    "current"
   ]
  }
 ],
 "metadata": {
  "kernelspec": {
   "display_name": "Python 3",
   "language": "python",
   "name": "python3"
  },
  "language_info": {
   "codemirror_mode": {
    "name": "ipython",
    "version": 3
   },
   "file_extension": ".py",
   "mimetype": "text/x-python",
   "name": "python",
   "nbconvert_exporter": "python",
   "pygments_lexer": "ipython3",
   "version": "3.8.2"
  }
 },
 "nbformat": 4,
 "nbformat_minor": 4
}
