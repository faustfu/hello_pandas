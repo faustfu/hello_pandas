{
 "cells": [
  {
   "cell_type": "code",
   "execution_count": 1,
   "metadata": {},
   "outputs": [],
   "source": [
    "# import numpy and pandas\n",
    "import numpy as np\n",
    "import pandas as pd\n",
    "\n",
    "# used for dates\n",
    "import datetime\n",
    "from datetime import datetime, date\n",
    "\n",
    "# Set some pandas options controlling output format\n",
    "pd.set_option('display.notebook_repr_html', False)\n",
    "pd.set_option('display.max_columns', 8)\n",
    "pd.set_option('display.max_rows', 10)\n",
    "pd.set_option('display.width', 60)\n",
    "\n",
    "# bring in matplotlib for graphics\n",
    "import matplotlib.pyplot as plt\n",
    "%matplotlib inline"
   ]
  },
  {
   "cell_type": "code",
   "execution_count": 2,
   "metadata": {},
   "outputs": [],
   "source": [
    "#a = np.random.normal(0,1,100)\n",
    "#a = np.random.uniform(-5,5,100)\n",
    "a = np.random.exponential()"
   ]
  },
  {
   "cell_type": "code",
   "execution_count": 3,
   "metadata": {},
   "outputs": [
    {
     "data": {
      "text/plain": [
       "array([ 4.83635711, -3.49361985, -0.68730554, -2.67145805, -0.75972385,\n",
       "       -2.58366839, -1.22330076,  2.64963469, -1.86753697,  0.51333579,\n",
       "       -4.83706108,  1.00447671, -2.98820089,  3.61188151, -2.60677946,\n",
       "       -2.86808659, -3.91564172, -3.38525709,  1.5251366 , -3.73819546,\n",
       "        4.39309723, -1.69343453,  4.64557706, -3.27223944,  0.22622322,\n",
       "        0.46543792,  1.91596323, -3.67306924,  0.3939183 , -3.93334098,\n",
       "        3.228502  ,  0.87628822, -4.99660627,  4.45162439, -1.1043525 ,\n",
       "       -1.57762011, -1.04407027, -0.1574841 ,  4.89383262, -0.14983807,\n",
       "       -3.24774841,  4.11534489, -0.75728504,  3.29311217, -2.93050776,\n",
       "        2.81108753,  3.38029916, -2.55299807, -4.64702935,  2.62187304,\n",
       "        4.21096268,  0.68625541, -3.5117255 ,  3.54765183, -4.69301931,\n",
       "        4.67677067, -2.81340486,  2.30400924, -0.14320365,  1.00148893,\n",
       "       -2.44397   ,  1.6508714 , -4.53956862,  4.44838441, -0.15256636,\n",
       "        1.5668061 ,  1.23579792,  4.18605   ,  4.41887763, -1.24168274,\n",
       "       -3.07331579,  3.08203092,  4.07782486,  1.76821198,  1.13856261,\n",
       "       -1.9404668 , -1.57945838,  2.58840338,  3.81111535, -2.78240308,\n",
       "       -2.79875322,  2.90025964,  4.56647555,  0.59167767, -2.16446083,\n",
       "        2.52471275, -4.69091328,  0.59514937, -3.70404531,  1.22193733,\n",
       "        3.14729767,  3.95549678, -0.61840613, -2.54379578, -2.57004349,\n",
       "        3.65000447,  4.40659731, -2.19649433,  1.61975904,  4.44750115])"
      ]
     },
     "execution_count": 3,
     "metadata": {},
     "output_type": "execute_result"
    }
   ],
   "source": [
    "a"
   ]
  },
  {
   "cell_type": "code",
   "execution_count": 4,
   "metadata": {},
   "outputs": [],
   "source": [
    "b = np.linspace(-10,10,100)"
   ]
  },
  {
   "cell_type": "code",
   "execution_count": 5,
   "metadata": {},
   "outputs": [
    {
     "data": {
      "text/plain": [
       "array([-10.        ,  -9.7979798 ,  -9.5959596 ,  -9.39393939,\n",
       "        -9.19191919,  -8.98989899,  -8.78787879,  -8.58585859,\n",
       "        -8.38383838,  -8.18181818,  -7.97979798,  -7.77777778,\n",
       "        -7.57575758,  -7.37373737,  -7.17171717,  -6.96969697,\n",
       "        -6.76767677,  -6.56565657,  -6.36363636,  -6.16161616,\n",
       "        -5.95959596,  -5.75757576,  -5.55555556,  -5.35353535,\n",
       "        -5.15151515,  -4.94949495,  -4.74747475,  -4.54545455,\n",
       "        -4.34343434,  -4.14141414,  -3.93939394,  -3.73737374,\n",
       "        -3.53535354,  -3.33333333,  -3.13131313,  -2.92929293,\n",
       "        -2.72727273,  -2.52525253,  -2.32323232,  -2.12121212,\n",
       "        -1.91919192,  -1.71717172,  -1.51515152,  -1.31313131,\n",
       "        -1.11111111,  -0.90909091,  -0.70707071,  -0.50505051,\n",
       "        -0.3030303 ,  -0.1010101 ,   0.1010101 ,   0.3030303 ,\n",
       "         0.50505051,   0.70707071,   0.90909091,   1.11111111,\n",
       "         1.31313131,   1.51515152,   1.71717172,   1.91919192,\n",
       "         2.12121212,   2.32323232,   2.52525253,   2.72727273,\n",
       "         2.92929293,   3.13131313,   3.33333333,   3.53535354,\n",
       "         3.73737374,   3.93939394,   4.14141414,   4.34343434,\n",
       "         4.54545455,   4.74747475,   4.94949495,   5.15151515,\n",
       "         5.35353535,   5.55555556,   5.75757576,   5.95959596,\n",
       "         6.16161616,   6.36363636,   6.56565657,   6.76767677,\n",
       "         6.96969697,   7.17171717,   7.37373737,   7.57575758,\n",
       "         7.77777778,   7.97979798,   8.18181818,   8.38383838,\n",
       "         8.58585859,   8.78787879,   8.98989899,   9.19191919,\n",
       "         9.39393939,   9.5959596 ,   9.7979798 ,  10.        ])"
      ]
     },
     "execution_count": 5,
     "metadata": {},
     "output_type": "execute_result"
    }
   ],
   "source": [
    "b"
   ]
  },
  {
   "cell_type": "code",
   "execution_count": 6,
   "metadata": {
    "scrolled": true
   },
   "outputs": [
    {
     "data": {
      "image/png": "[encoded data removed]",
      "text/plain": [
       "<Figure size 432x288 with 1 Axes>"
      ]
     },
     "metadata": {
      "needs_background": "light"
     },
     "output_type": "display_data"
    }
   ],
   "source": [
    "plt.scatter(b,a)\n",
    "plt.xlim(-10,10)\n",
    "plt.ylim(-5,5)\n",
    "plt.show()"
   ]
  }
 ],
 "metadata": {
  "kernelspec": {
   "display_name": "Python 3",
   "language": "python",
   "name": "python3"
  },
  "language_info": {
   "codemirror_mode": {
    "name": "ipython",
    "version": 3
   },
   "file_extension": ".py",
   "mimetype": "text/x-python",
   "name": "python",
   "nbconvert_exporter": "python",
   "pygments_lexer": "ipython3",
   "version": "3.7.4"
  }
 },
 "nbformat": 4,
 "nbformat_minor": 4
}
